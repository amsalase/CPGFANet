{
 "cells": [
  {
   "cell_type": "code",
   "execution_count": 71,
   "metadata": {},
   "outputs": [],
   "source": [
    "import numpy as np \n",
    "import matplotlib.pyplot as plt\n",
    "import cv2"
   ]
  },
  {
   "cell_type": "code",
   "execution_count": 72,
   "metadata": {},
   "outputs": [],
   "source": [
    "def get_palette():\n",
    "    unlabelled = [0,0,0]\n",
    "    backpack        = [64,0,128]\n",
    "    survivor     = [64,64,0]\n",
    "    fire_extinguisher      = [0,128,192]\n",
    "    hand_drill      = [0,0,192]\n",
    "    palette    = np.array([unlabelled,backpack,survivor,fire_extinguisher,hand_drill])\n",
    "    return palette"
   ]
  },
  {
   "cell_type": "code",
   "execution_count": 75,
   "metadata": {},
   "outputs": [],
   "source": [
    "def visualize(predictions):\n",
    "    palette = get_palette()\n",
    "    predictions = cv2.imread(predictions, cv2.IMREAD_GRAYSCALE)\n",
    "    plt.imshow(predictions)\n",
    "    print(predictions.shape)\n",
    "    pred = predictions\n",
    "    img = np.zeros((pred.shape[0], pred.shape[1], 3), dtype=np.uint8)\n",
    "    for cid in range(len(palette)): # fix the mistake from the MFNet code on Dec.27, 2019\n",
    "        img[pred == cid,:] = palette[cid]\n",
    "    img = Image.fromarray(np.uint8(img))    \n",
    "    img.save('./EJEMPLO6' + '.png')"
   ]
  },
  {
   "cell_type": "code",
   "execution_count": 76,
   "metadata": {},
   "outputs": [
    {
     "name": "stdout",
     "output_type": "stream",
     "text": [
      "(720, 1280)\n"
     ]
    },
    {
     "data": {
      "image/png": "[encoded data removed]",
      "text/plain": [
       "<Figure size 432x288 with 1 Axes>"
      ]
     },
     "metadata": {
      "needs_background": "light"
     },
     "output_type": "display_data"
    }
   ],
   "source": [
    "labels_path = '/workspace/PST900_RGBT_Dataset/labels/62_bag25_rect_rgb_frame0000001437.png'\n",
    "visualize(labels_path)"
   ]
  },
  {
   "cell_type": "code",
   "execution_count": null,
   "metadata": {},
   "outputs": [],
   "source": []
  }
 ],
 "metadata": {
  "kernelspec": {
   "display_name": "Python 3",
   "language": "python",
   "name": "python3"
  },
  "language_info": {
   "codemirror_mode": {
    "name": "ipython",
    "version": 3
   },
   "file_extension": ".py",
   "mimetype": "text/x-python",
   "name": "python",
   "nbconvert_exporter": "python",
   "pygments_lexer": "ipython3",
   "version": "3.6.9"
  }
 },
 "nbformat": 4,
 "nbformat_minor": 2
}
